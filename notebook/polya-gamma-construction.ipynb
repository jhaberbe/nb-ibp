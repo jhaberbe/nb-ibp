{
 "cells": [
  {
   "cell_type": "markdown",
   "id": "1e5c26f9",
   "metadata": {},
   "source": [
    "# Polya Gamma Sampler"
   ]
  },
  {
   "cell_type": "code",
   "execution_count": 10,
   "id": "202f2c75",
   "metadata": {},
   "outputs": [],
   "source": [
    "import numpy as np\n",
    "\n",
    "class PolyaGammaSampler:\n",
    "\n",
    "    def __init__(self):\n",
    "        pass\n",
    "    \n",
    "    def sample_scalar(self, b, c, truncation=100):\n",
    "        total = 0.0\n",
    "        for k in range(1, truncation + 1):\n",
    "            term_1 = np.random.gamma(b, 1.0)\n",
    "            term_2 = (k - 0.5)**2\n",
    "            term_3 = (c / (2 * np.pi))**2\n",
    "            total += term_1 / (term_2 + term_3)\n",
    "        \n",
    "        return 0.5 * total / (np.pi**2)\n",
    "\n",
    "    def sample(self, b_array, c_array, truncation=100):\n",
    "        b_array = np.asarray(b_array)\n",
    "        c_array = np.asarray(c_array)\n",
    "        N = b_array.shape[0]\n",
    "        omega = np.zeros(N)\n",
    "        \n",
    "        for n in range(N):\n",
    "            omega[n] = self.sample_scalar(b_array[n], c_array[n], truncation=truncation)\n",
    "        \n",
    "        return omega\n"
   ]
  },
  {
   "cell_type": "code",
   "execution_count": null,
   "id": "545e49df",
   "metadata": {},
   "outputs": [],
   "source": []
  },
  {
   "cell_type": "code",
   "execution_count": null,
   "id": "efeced2e",
   "metadata": {},
   "outputs": [],
   "source": []
  },
  {
   "cell_type": "code",
   "execution_count": null,
   "id": "e7584a0d",
   "metadata": {},
   "outputs": [
    {
     "name": "stderr",
     "output_type": "stream",
     "text": [
      " 92%|█████████▏| 919/1000 [00:27<00:02, 32.78it/s]"
     ]
    }
   ],
   "source": [
    "import numpy as np\n",
    "import matplotlib.pyplot as plt\n",
    "from scipy.stats import nbinom\n",
    "from tqdm import trange\n",
    "\n",
    "# 1. Generate data\n",
    "N = 200\n",
    "X = np.hstack([np.ones((N, 1)), np.random.randn(N, 2)])\n",
    "beta_true = np.array([0.5, 1.0, -1.5])\n",
    "r_true = 10.0\n",
    "\n",
    "eta = X @ beta_true\n",
    "mu = np.exp(eta)\n",
    "p = r_true / (r_true + mu)\n",
    "y = nbinom.rvs(r_true, p)"
   ]
  },
  {
   "cell_type": "code",
   "execution_count": null,
   "id": "f24bc102",
   "metadata": {},
   "outputs": [],
   "source": [
    "class PolyaGammaSampler:\n",
    "\n",
    "    def __init__(self):\n",
    "        pass\n",
    "    \n",
    "    def sample_scalar(self, b, c, truncation=100):\n",
    "        total = 0.0\n",
    "        for k in range(1, truncation + 1):\n",
    "            term_1 = np.random.gamma(b, 1.0)\n",
    "            term_2 = (k - 0.5)**2\n",
    "            term_3 = (c / (2 * np.pi))**2\n",
    "            total += term_1 / (term_2 + term_3)\n",
    "        \n",
    "        return 0.5 * total / (np.pi**2)\n",
    "\n",
    "    def sample(self, b_array, c_array, truncation=100):\n",
    "        b_array = np.asarray(b_array)\n",
    "        c_array = np.asarray(c_array)\n",
    "        N = b_array.shape[0]\n",
    "        omega = np.zeros(N)\n",
    "        \n",
    "        for n in range(N):\n",
    "            omega[n] = self.sample_scalar(b_array[n], c_array[n], truncation=truncation)\n",
    "        \n",
    "        return omega\n",
    "\n",
    "# 3. Gibbs sampler setup\n",
    "pg = PolyaGammaSampler()"
   ]
  },
  {
   "cell_type": "code",
   "execution_count": null,
   "id": "775a0633",
   "metadata": {},
   "outputs": [],
   "source": [
    "# Prior: beta ~ N(0, 100 I)\n",
    "Sigma0_inv = np.eye(3) * 0.01\n",
    "mu0 = np.zeros(3)\n",
    "\n",
    "num_iters = 1000\n",
    "beta_samples = []\n",
    "\n",
    "# Initialize\n",
    "beta = np.zeros(3)\n",
    "\n",
    "# 4. Gibbs sampling loop\n",
    "for it in trange(num_iters):\n",
    "    # Step 1: Sample PG variables\n",
    "    eta = X @ beta\n",
    "    b_vec = y + r_true\n",
    "    c_vec = eta\n",
    "    omega = pg.sample(b_vec, c_vec, truncation=200)\n",
    "    \n",
    "    # Step 2: Sample beta\n",
    "    Omega = np.diag(omega)\n",
    "    V_inv = X.T @ Omega @ X + Sigma0_inv\n",
    "    V = np.linalg.inv(V_inv)\n",
    "    \n",
    "    m = V @ (X.T @ ((y - r_true) / 2) + Sigma0_inv @ mu0)\n",
    "    \n",
    "    beta = np.random.multivariate_normal(m, V)\n",
    "    beta_samples.append(beta)\n",
    "\n",
    "# Convert to array\n",
    "beta_samples = np.array(beta_samples)\n",
    "\n",
    "# 5. Plot results\n",
    "fig, axes = plt.subplots(1, 3, figsize=(12, 4))\n",
    "for d in range(3):\n",
    "    axes[d].plot(beta_samples[:, d])\n",
    "    axes[d].axhline(beta_true[d], color='red', linestyle='--')\n",
    "    axes[d].set_title(f'beta_{d} trace')\n",
    "plt.show()\n",
    "\n",
    "# 6. Posterior means\n",
    "print(\"Posterior means:\")\n",
    "print(beta_samples.mean(axis=0))\n",
    "print(\"True beta:\")\n",
    "print(beta_true)\n"
   ]
  }
 ],
 "metadata": {
  "kernelspec": {
   "display_name": "nb-ibp",
   "language": "python",
   "name": "python3"
  },
  "language_info": {
   "codemirror_mode": {
    "name": "ipython",
    "version": 3
   },
   "file_extension": ".py",
   "mimetype": "text/x-python",
   "name": "python",
   "nbconvert_exporter": "python",
   "pygments_lexer": "ipython3",
   "version": "3.13.3"
  }
 },
 "nbformat": 4,
 "nbformat_minor": 5
}
